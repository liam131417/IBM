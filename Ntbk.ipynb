{
    "cells": [
        {
            "cell_type": "code",
            "execution_count": 2,
            "metadata": {},
            "outputs": [
                {
                    "name": "stdout",
                    "output_type": "stream",
                    "text": "+----------+--------+------------------+-----------------+-----------------+-----------------------------------+------------------------------+-----------------------+-----------------------------+-----------------------+----------------------+------------------+------------------------------+----------------+\n|      date|location|total_vaccinations|total_distributed|people_vaccinated|people_fully_vaccinated_per_hundred|total_vaccinations_per_hundred|people_fully_vaccinated|people_vaccinated_per_hundred|distributed_per_hundred|daily_vaccinations_raw|daily_vaccinations|daily_vaccinations_per_million|share_doses_used|\n+----------+--------+------------------+-----------------+-----------------+-----------------------------------+------------------------------+-----------------------+-----------------------------+-----------------------+----------------------+------------------+------------------------------+----------------+\n|2021-01-12| Alabama|           78134.0|         377025.0|          70861.0|                               0.15|                          1.59|                 7270.0|                         1.45|                   7.69|                  null|              null|                          null|           0.207|\n|2021-01-13| Alabama|           84040.0|         378975.0|          74792.0|                               0.19|                          1.71|                 9245.0|                         1.53|                   7.73|                5906.0|            5906.0|                        1205.0|           0.222|\n|2021-01-14| Alabama|           92300.0|         435350.0|          80480.0|                               null|                          1.88|                   null|                         1.64|                   8.88|                8260.0|            7083.0|                        1445.0|           0.212|\n|2021-01-15| Alabama|          100567.0|         444650.0|          86956.0|                               0.28|                          2.05|                13488.0|                         1.77|                   9.07|                8267.0|            7478.0|                        1525.0|           0.226|\n|2021-01-16| Alabama|              null|             null|             null|                               null|                          null|                   null|                         null|                   null|                7557.0|            7498.0|                        1529.0|            null|\n+----------+--------+------------------+-----------------+-----------------+-----------------------------------+------------------------------+-----------------------+-----------------------------+-----------------------+----------------------+------------------+------------------------------+----------------+\nonly showing top 5 rows\n\n"
                },
                {
                    "data": {
                        "text/plain": "configurationName = os_ef9e26abeb2247e8bde7e1d209ec41e1_configs\nendpoint_ef9e26abeb2247e8bde7e1d209ec41e1 = https://s3.private.ap.cloud-object-storage.appdomain.cloud\ncos = com.ibm.ibmos2spark.CloudObjectStorage@d9226281\nspark = org.apache.spark.sql.SparkSession@15b87085\ndfData1 = [date: string, location: string ... 12 more fields]\n"
                    },
                    "metadata": {},
                    "output_type": "display_data"
                },
                {
                    "data": {
                        "text/plain": "getCredentials: ()scala.collection.mutable.HashMap[String,String]\n"
                    },
                    "metadata": {},
                    "output_type": "display_data"
                },
                {
                    "data": {
                        "text/plain": "[date: string, location: string ... 12 more fields]"
                    },
                    "execution_count": 2,
                    "metadata": {},
                    "output_type": "execute_result"
                }
            ],
            "source": "// The code was removed by Watson Studio for sharing."
        },
        {
            "cell_type": "code",
            "execution_count": null,
            "metadata": {},
            "outputs": [],
            "source": ""
        }
    ],
    "metadata": {
        "kernelspec": {
            "display_name": "Scala 2.12 with Spark",
            "language": "scala",
            "name": "scala"
        },
        "language_info": {
            "codemirror_mode": "text/x-scala",
            "file_extension": ".scala",
            "mimetype": "text/x-scala",
            "name": "scala",
            "pygments_lexer": "scala",
            "version": "2.12.12"
        }
    },
    "nbformat": 4,
    "nbformat_minor": 1
}